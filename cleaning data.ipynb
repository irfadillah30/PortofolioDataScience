{
 "cells": [
  {
   "cell_type": "code",
   "execution_count": 2,
   "id": "9a5d8534",
   "metadata": {},
   "outputs": [
    {
     "data": {
      "text/html": [
       "<div>\n",
       "<style scoped>\n",
       "    .dataframe tbody tr th:only-of-type {\n",
       "        vertical-align: middle;\n",
       "    }\n",
       "\n",
       "    .dataframe tbody tr th {\n",
       "        vertical-align: top;\n",
       "    }\n",
       "\n",
       "    .dataframe thead th {\n",
       "        text-align: right;\n",
       "    }\n",
       "</style>\n",
       "<table border=\"1\" class=\"dataframe\">\n",
       "  <thead>\n",
       "    <tr style=\"text-align: right;\">\n",
       "      <th></th>\n",
       "      <th>defect_id</th>\n",
       "      <th>product_id</th>\n",
       "      <th>defect_type</th>\n",
       "      <th>defect_date</th>\n",
       "      <th>defect_location</th>\n",
       "      <th>severity</th>\n",
       "      <th>inspection_method</th>\n",
       "      <th>repair_cost</th>\n",
       "    </tr>\n",
       "  </thead>\n",
       "  <tbody>\n",
       "    <tr>\n",
       "      <th>0</th>\n",
       "      <td>1</td>\n",
       "      <td>15</td>\n",
       "      <td>Structural</td>\n",
       "      <td>6/6/2024</td>\n",
       "      <td>Component</td>\n",
       "      <td>Minor</td>\n",
       "      <td>Visual Inspection</td>\n",
       "      <td>245.47</td>\n",
       "    </tr>\n",
       "    <tr>\n",
       "      <th>1</th>\n",
       "      <td>2</td>\n",
       "      <td>6</td>\n",
       "      <td>Functional</td>\n",
       "      <td>4/26/2024</td>\n",
       "      <td>Component</td>\n",
       "      <td>Minor</td>\n",
       "      <td>Visual Inspection</td>\n",
       "      <td>26.87</td>\n",
       "    </tr>\n",
       "    <tr>\n",
       "      <th>2</th>\n",
       "      <td>3</td>\n",
       "      <td>84</td>\n",
       "      <td>Structural</td>\n",
       "      <td>2/15/2024</td>\n",
       "      <td>Internal</td>\n",
       "      <td>Minor</td>\n",
       "      <td>Automated Testing</td>\n",
       "      <td>835.81</td>\n",
       "    </tr>\n",
       "    <tr>\n",
       "      <th>3</th>\n",
       "      <td>4</td>\n",
       "      <td>10</td>\n",
       "      <td>Functional</td>\n",
       "      <td>3/28/2024</td>\n",
       "      <td>Internal</td>\n",
       "      <td>Critical</td>\n",
       "      <td>Automated Testing</td>\n",
       "      <td>444.47</td>\n",
       "    </tr>\n",
       "    <tr>\n",
       "      <th>4</th>\n",
       "      <td>5</td>\n",
       "      <td>14</td>\n",
       "      <td>Cosmetic</td>\n",
       "      <td>4/26/2024</td>\n",
       "      <td>Component</td>\n",
       "      <td>Minor</td>\n",
       "      <td>Manual Testing</td>\n",
       "      <td>823.64</td>\n",
       "    </tr>\n",
       "  </tbody>\n",
       "</table>\n",
       "</div>"
      ],
      "text/plain": [
       "   defect_id  product_id defect_type defect_date defect_location  severity  \\\n",
       "0          1          15  Structural    6/6/2024       Component     Minor   \n",
       "1          2           6  Functional   4/26/2024       Component     Minor   \n",
       "2          3          84  Structural   2/15/2024        Internal     Minor   \n",
       "3          4          10  Functional   3/28/2024        Internal  Critical   \n",
       "4          5          14    Cosmetic   4/26/2024       Component     Minor   \n",
       "\n",
       "   inspection_method  repair_cost  \n",
       "0  Visual Inspection       245.47  \n",
       "1  Visual Inspection        26.87  \n",
       "2  Automated Testing       835.81  \n",
       "3  Automated Testing       444.47  \n",
       "4     Manual Testing       823.64  "
      ]
     },
     "execution_count": 2,
     "metadata": {},
     "output_type": "execute_result"
    }
   ],
   "source": [
    "import pandas as pd\n",
    "\n",
    " # 1. Load data \n",
    "df = pd.read_csv(\"defect_data.csv\")\n",
    "df.head()\n"
   ]
  },
  {
   "cell_type": "code",
   "execution_count": 3,
   "id": "3eb02034",
   "metadata": {},
   "outputs": [
    {
     "name": "stdout",
     "output_type": "stream",
     "text": [
      "defect_id            0\n",
      "product_id           0\n",
      "defect_type          0\n",
      "defect_date          0\n",
      "defect_location      0\n",
      "severity             0\n",
      "inspection_method    0\n",
      "repair_cost          0\n",
      "dtype: int64\n"
     ]
    }
   ],
   "source": [
    "# 2. Cek missing values\n",
    "print(df.isnull().sum())"
   ]
  },
  {
   "cell_type": "code",
   "execution_count": 4,
   "id": "a7aa8465",
   "metadata": {},
   "outputs": [
    {
     "name": "stdout",
     "output_type": "stream",
     "text": [
      "0\n"
     ]
    }
   ],
   "source": [
    "# 3. Cek duplikasi\n",
    "print(df.duplicated().sum())"
   ]
  },
  {
   "cell_type": "code",
   "execution_count": 5,
   "id": "5a70aa76",
   "metadata": {},
   "outputs": [
    {
     "name": "stdout",
     "output_type": "stream",
     "text": [
      "<class 'pandas.core.frame.DataFrame'>\n",
      "RangeIndex: 1000 entries, 0 to 999\n",
      "Data columns (total 8 columns):\n",
      " #   Column             Non-Null Count  Dtype  \n",
      "---  ------             --------------  -----  \n",
      " 0   defect_id          1000 non-null   int64  \n",
      " 1   product_id         1000 non-null   int64  \n",
      " 2   defect_type        1000 non-null   object \n",
      " 3   defect_date        1000 non-null   object \n",
      " 4   defect_location    1000 non-null   object \n",
      " 5   severity           1000 non-null   object \n",
      " 6   inspection_method  1000 non-null   object \n",
      " 7   repair_cost        1000 non-null   float64\n",
      "dtypes: float64(1), int64(2), object(5)\n",
      "memory usage: 62.6+ KB\n",
      "None\n"
     ]
    }
   ],
   "source": [
    "# 4. Cek info data\n",
    "print(df.info())"
   ]
  },
  {
   "cell_type": "code",
   "execution_count": 16,
   "id": "b2496cc0",
   "metadata": {},
   "outputs": [],
   "source": [
    "# 5. Copy df biar aman\n",
    "clean_df = df.copy()"
   ]
  },
  {
   "cell_type": "code",
   "execution_count": 17,
   "id": "48bea4a2",
   "metadata": {},
   "outputs": [],
   "source": [
    "#6. Convert defect_date ke datetime\n",
    "clean_df[\"defect_date\"] = pd.to_datetime(clean_df[\"defect_date\"], errors=\"coerce\")"
   ]
  },
  {
   "cell_type": "code",
   "execution_count": 18,
   "id": "d0596d70",
   "metadata": {},
   "outputs": [],
   "source": [
    "# 7. Standardisasi teks (judul tiap kata)\n",
    "text_cols = [\"defect_type\", \"defect_location\", \"severity\", \"inspection_method\"]\n",
    "for col in text_cols:\n",
    "    clean_df[col] = clean_df[col].str.strip().str.title()"
   ]
  },
  {
   "cell_type": "code",
   "execution_count": 19,
   "id": "e3509076",
   "metadata": {},
   "outputs": [],
   "source": [
    "# 8. Cek & drop duplikat defect_id (kalau ada)\n",
    "clean_df = clean_df.drop_duplicates(subset=\"defect_id\")"
   ]
  },
  {
   "cell_type": "code",
   "execution_count": 20,
   "id": "f0f0d521",
   "metadata": {},
   "outputs": [],
   "source": [
    "# 9. Tambah kolom turunan (month, year)\n",
    "clean_df[\"month\"] = clean_df[\"defect_date\"].dt.month\n",
    "clean_df[\"year\"] = clean_df[\"defect_date\"].dt.year"
   ]
  },
  {
   "cell_type": "code",
   "execution_count": 21,
   "id": "da9368fc",
   "metadata": {},
   "outputs": [
    {
     "data": {
      "text/plain": [
       "('defect_data_clean.csv',\n",
       "    defect_id  product_id defect_type defect_date defect_location  severity  \\\n",
       " 0          1          15  Structural  2024-06-06       Component     Minor   \n",
       " 1          2           6  Functional  2024-04-26       Component     Minor   \n",
       " 2          3          84  Structural  2024-02-15        Internal     Minor   \n",
       " 3          4          10  Functional  2024-03-28        Internal  Critical   \n",
       " 4          5          14    Cosmetic  2024-04-26       Component     Minor   \n",
       " \n",
       "    inspection_method  repair_cost  month  year  \n",
       " 0  Visual Inspection       245.47      6  2024  \n",
       " 1  Visual Inspection        26.87      4  2024  \n",
       " 2  Automated Testing       835.81      2  2024  \n",
       " 3  Automated Testing       444.47      3  2024  \n",
       " 4     Manual Testing       823.64      4  2024  )"
      ]
     },
     "execution_count": 21,
     "metadata": {},
     "output_type": "execute_result"
    }
   ],
   "source": [
    "# 10. save hasil bersih\n",
    "output_path = \"defect_data_clean.csv\"\n",
    "clean_df.to_csv(output_path, index=False)\n",
    "\n",
    "output_path, clean_df.head()"
   ]
  }
 ],
 "metadata": {
  "kernelspec": {
   "display_name": "portofolioku",
   "language": "python",
   "name": "python3"
  },
  "language_info": {
   "codemirror_mode": {
    "name": "ipython",
    "version": 3
   },
   "file_extension": ".py",
   "mimetype": "text/x-python",
   "name": "python",
   "nbconvert_exporter": "python",
   "pygments_lexer": "ipython3",
   "version": "3.13.5"
  }
 },
 "nbformat": 4,
 "nbformat_minor": 5
}
